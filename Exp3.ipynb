{
  "nbformat": 4,
  "nbformat_minor": 0,
  "metadata": {
    "colab": {
      "provenance": [],
      "authorship_tag": "ABX9TyOwV0NpvKxzllKxcXUpOM0d",
      "include_colab_link": true
    },
    "kernelspec": {
      "name": "python3",
      "display_name": "Python 3"
    },
    "language_info": {
      "name": "python"
    }
  },
  "cells": [
    {
      "cell_type": "markdown",
      "metadata": {
        "id": "view-in-github",
        "colab_type": "text"
      },
      "source": [
        "<a href=\"https://colab.research.google.com/github/DR-STRANGE666/DWDM/blob/main/Exp3.ipynb\" target=\"_parent\"><img src=\"https://colab.research.google.com/assets/colab-badge.svg\" alt=\"Open In Colab\"/></a>"
      ]
    },
    {
      "cell_type": "code",
      "execution_count": null,
      "metadata": {
        "colab": {
          "base_uri": "https://localhost:8080/"
        },
        "id": "tLtdWdvd_cgq",
        "outputId": "8d17d7a2-1c55-4bde-cdd3-8718d809e213"
      },
      "outputs": [
        {
          "output_type": "stream",
          "name": "stdout",
          "text": [
            "Pearson's Correlation Coefficient: 0.9999999999999998\n"
          ]
        }
      ],
      "source": [
        "import numpy as np\n",
        "def pearson_correlation(x, y):\n",
        "    # Calculate means\n",
        "    mean_x = np.mean(x)\n",
        "    mean_y = np.mean(y)\n",
        "\n",
        "    # Calculate covariance and standard deviations\n",
        "    covariance = np.sum((x - mean_x) * (y - mean_y))\n",
        "    std_dev_x = np.sqrt(np.sum((x - mean_x) ** 2))\n",
        "    std_dev_y = np.sqrt(np.sum((y - mean_y) ** 2))\n",
        "\n",
        "    # Calculate Pearson's correlation coefficient\n",
        "    correlation = covariance / (std_dev_x * std_dev_y)\n",
        "\n",
        "    return correlation\n",
        " # Example usage\n",
        "x = np.array([1, 2, 3, 4, 5])\n",
        "y = np.array([2, 3, 4, 5, 6])\n",
        "print(\"Pearson's Correlation Coefficient:\", pearson_correlation(x, y))"
      ]
    }
  ]
}